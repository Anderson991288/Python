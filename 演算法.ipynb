{
  "nbformat": 4,
  "nbformat_minor": 0,
  "metadata": {
    "colab": {
      "name": "演算法.ipynb",
      "provenance": [],
      "collapsed_sections": [],
      "authorship_tag": "ABX9TyOwQbFc7z1/xF55ezM5Iecx",
      "include_colab_link": true
    },
    "kernelspec": {
      "name": "python3",
      "display_name": "Python 3"
    },
    "language_info": {
      "name": "python"
    }
  },
  "cells": [
    {
      "cell_type": "markdown",
      "metadata": {
        "id": "view-in-github",
        "colab_type": "text"
      },
      "source": [
        "<a href=\"https://colab.research.google.com/github/Anderson991288/Python/blob/main/%E6%BC%94%E7%AE%97%E6%B3%95.ipynb\" target=\"_parent\"><img src=\"https://colab.research.google.com/assets/colab-badge.svg\" alt=\"Open In Colab\"/></a>"
      ]
    },
    {
      "cell_type": "code",
      "metadata": {
        "colab": {
          "base_uri": "https://localhost:8080/"
        },
        "id": "RxVyz0izuWSE",
        "outputId": "0a948d11-0566-4367-8d36-e875d4fe09a9"
      },
      "source": [
        "def bubble_sorting(data):\n",
        "    n = len(data)\n",
        "    for i in range (n-1):\n",
        "        for j in range (n-i-1):\n",
        "              if data[j] > data[j+1]:        # 比大小然後互換\n",
        "                x = data[j] \n",
        "                data[j] = data[j+1]\n",
        "                data[j+1] = x\n",
        "            \n",
        "data = [89, 34, 23, 78, 67, 100, 66, 29, 79, 55, 78, 88, 92, 96, 96, 23]\n",
        "bubble_sorting(data)\n",
        "print(data)"
      ],
      "execution_count": null,
      "outputs": [
        {
          "output_type": "stream",
          "text": [
            "[23, 23, 29, 34, 55, 66, 67, 78, 78, 79, 88, 89, 92, 96, 96, 100]\n"
          ],
          "name": "stdout"
        }
      ]
    },
    {
      "cell_type": "code",
      "metadata": {
        "colab": {
          "base_uri": "https://localhost:8080/"
        },
        "id": "Dgdm6xfmujLG",
        "outputId": "afa1cea9-a84c-4ec5-cb9a-2654f95bbec6"
      },
      "source": [
        "def bucketsort(data):\n",
        "    max_score = 100\n",
        "    bucket = []\n",
        "    \n",
        "    for i in range(max_score+1):\n",
        "        bucket.append(0)\n",
        "        \n",
        "    for score in data:\n",
        "        bucket[score] = bucket[score] + 1\n",
        "         \n",
        "    index = 0\n",
        "    for i in range(len(bucket)):   #依序讀取桶子裡的資料\n",
        "        if bucket[i] != 0:          #當桶內有資料時\n",
        "            for j in range(bucket[i]):   #把編號存回 data\n",
        "                data[index] = i\n",
        "                index = index+1\n",
        "                 \n",
        "data = [89, 34, 34, 78, 67, 100, 66, 29, 79, 55, 78, 88, 92, 96, 96, 23]\n",
        "bucketsort(data)\n",
        "print(data)"
      ],
      "execution_count": null,
      "outputs": [
        {
          "output_type": "stream",
          "text": [
            "[23, 29, 34, 34, 55, 66, 67, 78, 78, 79, 88, 89, 92, 96, 96, 100]\n"
          ],
          "name": "stdout"
        }
      ]
    },
    {
      "cell_type": "code",
      "metadata": {
        "colab": {
          "base_uri": "https://localhost:8080/"
        },
        "id": "JXsg7Ek1usfF",
        "outputId": "64b34622-4ef0-4917-9dfb-0d4956f79da5"
      },
      "source": [
        "data = [89, 34, 23, 78, 67, 100, 66, 29, 79, 55, 78, 88, 92, 96, 96, 23]\n",
        "\n",
        "def quicksort(data, left, right): # 輸入資料，和從兩邊開始的位置\n",
        "    if left >= right :            # 如果左邊大於右邊，就跳出function\n",
        "        return\n",
        "\n",
        "    i = left                      # 左邊的代理人\n",
        "    j = right                     # 右邊的代理人\n",
        "    key = data[left]                 # 基準點\n",
        "\n",
        "    while i != j:                  \n",
        "        while data[j] > key and i < j:   # 從右邊開始找，找比基準點小的值\n",
        "            j -= 1\n",
        "        while data[i] <= key and i < j:  # 從左邊開始找，找比基準點大的值\n",
        "            i += 1\n",
        "        if i < j:                        # 當左右代理人沒有相遇時，互換值\n",
        "            data[i], data[j] = data[j], data[i] \n",
        "\n",
        "    # 將基準點歸換至代理人相遇點\n",
        "    data[left] = data[i] \n",
        "    data[i] = key\n",
        "\n",
        "    quicksort(data, left, i-1)   # 繼續處理較小部分的子循環\n",
        "    quicksort(data, i+1, right)  # 繼續處理較大部分的子循環\n",
        "\n",
        "quicksort(data, 0, len(data)-1)\n",
        "print(data)"
      ],
      "execution_count": null,
      "outputs": [
        {
          "output_type": "stream",
          "text": [
            "[23, 23, 29, 34, 55, 66, 67, 78, 78, 79, 88, 89, 92, 96, 96, 100]\n"
          ],
          "name": "stdout"
        }
      ]
    },
    {
      "cell_type": "code",
      "metadata": {
        "colab": {
          "base_uri": "https://localhost:8080/"
        },
        "id": "Ps5vjAaNuyUE",
        "outputId": "1a805a23-a733-4b7a-a768-9cf8bb523f47"
      },
      "source": [
        "data = [89, 34, 23, 78, 67, 100, 66, 29, 79, 55, 78, 88, 92, 96, 96, 23]\n",
        "# 基數排序法 \n",
        "# Radix sort\n",
        "def radixsort(data):\n",
        "    length = len(data)\n",
        "    count = max(data) # 資料裡最大的數值\n",
        "\n",
        "    # 用最大數來判斷最大位數\n",
        "    digit = 1\n",
        "    while count > 9:\n",
        "        count /= 10\n",
        "        digit += 1\n",
        "\n",
        "    tmp = []\n",
        "    cur = 0\n",
        "    for i in range(length):    # 資料的大小會決定桶子的數量，會是一個二維陣列\n",
        "        tmp.append([0] * length)\n",
        "    order = [0] * length       # 游標行，用來將資料放到同一位數但不同列的桶子\n",
        "\n",
        "    if digit <= 9:\n",
        "        '''use LSD(Least significant digit) method '''\n",
        "        n = 1\n",
        "        while n <= max(data):\n",
        "            for i in range(length):\n",
        "                lsd = int(data[i]/n) % 10  # 將資料用10來取個位數的餘數\n",
        "                tmp[lsd][order[lsd]] = data[i]\n",
        "                order[lsd] += 1\n",
        "            for i in range(length):\n",
        "                # 如果這個位數的桶子在此行有資料，就丟到同一個位數，但下一列的位置\n",
        "                if order[i] != 0:\n",
        "                    for j in range(order[i]):\n",
        "                        data[cur] = tmp[i][j]\n",
        "                        cur += 1\n",
        "                # 將游標行的資料歸零\n",
        "                order[i] = 0\n",
        "            n *= 10\n",
        "            cur = 0\n",
        "        print(data)\n",
        "        \n",
        "radixsort(data)"
      ],
      "execution_count": null,
      "outputs": [
        {
          "output_type": "stream",
          "text": [
            "[23, 23, 29, 34, 55, 66, 67, 78, 78, 79, 88, 89, 92, 96, 96, 100]\n"
          ],
          "name": "stdout"
        }
      ]
    },
    {
      "cell_type": "code",
      "metadata": {
        "colab": {
          "base_uri": "https://localhost:8080/"
        },
        "id": "6L7VVUGku2vN",
        "outputId": "21af8c3b-dedb-4750-f217-d383d1489831"
      },
      "source": [
        "from copy import copy\n",
        "list_1to9=[1,2,3,4,5,6,7,8,9]\n",
        "\n",
        "#在b層建一個新的1-9，然後pop掉取過的，C層再複製b取過的，建一個新的1-9，pop掉取過的\n",
        "#d層再複製c層取過的，建新的1-9.....以下同上。這樣就最後一行就不用再把取過的加回去了。\n",
        "\n",
        "\n",
        "for a in list_1to9:        # a從list_1to9取數字\n",
        "    list_a=copy(list_1to9)    # list_a複製list_1to9\n",
        "    list_a.remove(a)       # 將a選取的數字從list_a去除，留下可以繼續被選取的字給b\n",
        "        \n",
        "    for b in list_a:         # b從list_a取數字\n",
        "        list_b=copy(list_a)     # list_b複製list_a\n",
        "        list_b.remove(b)      # 將b選取的數字從list_b去除，留下可以繼續被選取的字給c\n",
        "        for c in list_b:\n",
        "            list_c=copy(list_b)\n",
        "            list_c.remove(c)\n",
        "            for d in list_c:\n",
        "                list_d=copy(list_c)\n",
        "                list_d.remove(d)\n",
        "                for e in list_d:\n",
        "                    list_e=copy(list_d)\n",
        "                    list_e.remove(e)\n",
        "                    for f in list_e:\n",
        "                        list_f=copy(list_e)\n",
        "                        list_f.remove(f)\n",
        "                        for g in list_f:\n",
        "                            list_g=copy(list_f)\n",
        "                            list_g.remove(g)\n",
        "                            for h in list_g:\n",
        "                                list_h=copy(list_g)\n",
        "                                list_h.remove(h)\n",
        "                                for i in list_h:\n",
        "                                    #這時候選取完所有的數字，並填入方程式進行驗證，如果為是，輸出結果；如果為否，則沿著迴圈h到迴圈a一一測試各種可能。\n",
        "                                    if (a/(b*10.+c)+d/(e*10.+f)+g/(h*10.+i))==1: \n",
        "                                        print (a,b,c,d,e,f,g,h,i) "
      ],
      "execution_count": null,
      "outputs": [
        {
          "output_type": "stream",
          "text": [
            "5 3 4 7 6 8 9 1 2\n",
            "5 3 4 9 1 2 7 6 8\n",
            "7 6 8 5 3 4 9 1 2\n",
            "7 6 8 9 1 2 5 3 4\n",
            "9 1 2 5 3 4 7 6 8\n",
            "9 1 2 7 6 8 5 3 4\n"
          ],
          "name": "stdout"
        }
      ]
    },
    {
      "cell_type": "code",
      "metadata": {
        "colab": {
          "base_uri": "https://localhost:8080/"
        },
        "id": "ygTPrE5NIZKn",
        "outputId": "01936e08-a2f4-4b80-c587-6b3c67be77ad"
      },
      "source": [
        "# 循序搜尋\n",
        "data = [1, 2, 3, 4, 5, 6, 7, 8]\n",
        "\n",
        "def sequential_search(data, key):\n",
        "    for i in data:\n",
        "        if i == key : \n",
        "            print(\"find the key\") \n",
        "            break \n",
        "            \n",
        "sequential_search(data, 3)"
      ],
      "execution_count": null,
      "outputs": [
        {
          "output_type": "stream",
          "text": [
            "find the key\n"
          ],
          "name": "stdout"
        }
      ]
    },
    {
      "cell_type": "code",
      "metadata": {
        "colab": {
          "base_uri": "https://localhost:8080/"
        },
        "id": "p9ZLYNvqu6fN",
        "outputId": "915dc935-d1b3-4b74-e3cc-c850e08e4a3b"
      },
      "source": [
        "# 循序搜尋\n",
        "data = [1, 2, 3, 4, 5, 6, 10, 12]\n",
        "\n",
        "def sequential_search(data, key):\n",
        "    print(key) \n",
        "    tmp = [0] * (len(data) + 1)    #設一個空陣列，長度為data長度+1\n",
        "    for i in range(1, len(data)):    #將data的值給到tmp\n",
        "        tmp[i] = data[i - 1]\n",
        "    tmp[0] = key               #設定key值\n",
        "    #print(tmp)                  \n",
        "    i = len(data)                  #設定索引並開始比較\n",
        "    while tmp[i] != key:\n",
        "        i = i - 1\n",
        "    return i - 1                   #回傳索引\n",
        "\n",
        "index = sequential_search(data,5)\n",
        "if index >= 0:\n",
        "    print(\"find the index: \" + str(index))\n",
        "else:\n",
        "    print(\"can't find the index\")"
      ],
      "execution_count": null,
      "outputs": [
        {
          "output_type": "stream",
          "text": [
            "5\n",
            "find the index: 4\n"
          ],
          "name": "stdout"
        }
      ]
    },
    {
      "cell_type": "code",
      "metadata": {
        "colab": {
          "base_uri": "https://localhost:8080/"
        },
        "id": "qSTLUxPkwjcx",
        "outputId": "2ae0cdad-8bee-4222-86a9-c19fb07e85dc"
      },
      "source": [
        "# 二分搜尋\n",
        "data = [1, 2, 3, 4, 5, 6, 7, 8, 9]\n",
        "\n",
        "def binary_search(data, key):\n",
        "    #設置選取範圍的指標\n",
        "    low = 0\n",
        "    upper = len(data) - 1\n",
        "    while low <= upper:\n",
        "        mid = int((low + upper) / 2)  #取中間索引的值\n",
        "        if data[mid] < key:    #若搜尋值比中間的值大，將中間索引+1，取右半\n",
        "            low = mid + 1\n",
        "        elif data[mid] > key:  #若搜尋值比中間的值小，將中間索引+1，取左半\n",
        "            upper = mid - 1\n",
        "        elif data[mid]==key:                    #若搜尋值等於中間的值，則回傳\n",
        "            return mid\n",
        "    return -1   #沒有回傳值: return -1\n",
        "\n",
        "index = binary_search(data, 10)\n",
        "if index >= 0:\n",
        "    print(\"找到數值於索引 \" + str(index))\n",
        "else:\n",
        "    print(\"找不到數值\")"
      ],
      "execution_count": null,
      "outputs": [
        {
          "output_type": "stream",
          "text": [
            "找不到數值\n"
          ],
          "name": "stdout"
        }
      ]
    },
    {
      "cell_type": "code",
      "metadata": {
        "colab": {
          "base_uri": "https://localhost:8080/"
        },
        "id": "iFLv9a5mvnTM",
        "outputId": "ae6e5e3b-5253-44cd-af43-de267b29c503"
      },
      "source": [
        "# 插補搜尋\n",
        "# mid是你要找的數字\n",
        "# 利用不斷地改變上下限來求值\n",
        "data = [1, 2, 3, 4, 5, 6, 7, 8, 9, 10]\n",
        "def interpolation_search(data, key):\n",
        "    low = 0\n",
        "    upper = len(data) - 1\n",
        "    while low <= upper:\n",
        "        mid = int((upper - low) * (key - data[low]) / (data[upper] - data[low]) + low)\n",
        "        if mid < low or mid > upper:\n",
        "            break\n",
        "        if key < data[mid]:\n",
        "            upper = mid - 1\n",
        "        elif key > data[mid]:\n",
        "            low = mid + 1\n",
        "        else:\n",
        "            return mid\n",
        "\n",
        "    return -1\n",
        "\n",
        "index = interpolation_search(data, 6)\n",
        "if index >= 0:\n",
        "    print(\"找到數值於索引 \" + str(index))\n",
        "else:\n",
        "    print(\"找不到數值\")"
      ],
      "execution_count": null,
      "outputs": [
        {
          "output_type": "stream",
          "text": [
            "找到數值於索引 5\n"
          ],
          "name": "stdout"
        }
      ]
    },
    {
      "cell_type": "code",
      "metadata": {
        "colab": {
          "base_uri": "https://localhost:8080/"
        },
        "id": "sYd6q3brw1eN",
        "outputId": "14595a31-edb9-461d-b250-3e5e8f8e4baf"
      },
      "source": [
        "a = [] \n",
        "book = []\n",
        "for i in range(10):\n",
        "    a.append(0)     #設數字9+1個空盒子\n",
        "    book.append(0)  #設數字9+1個空盒子，表示目前是否有使用此數字\n",
        "\n",
        "total = 0 #代表可行解總共有幾種\n",
        "def Depth_first_Search(step, total, a, book):  #step代表目前的位置\n",
        "    if step == 9:   #如果站在索引為9的盒子表示0~8共九個位置都已有待運算的數字\n",
        "        if a[0]/(a[1]*10.+a[2]) + a[3]/(a[4]*10.+a[5]) + a[6]/(a[7]*10.+a[8]) == 1 : \n",
        "            total += 1  #如果滿足解，可行解+1\n",
        "            print(a)\n",
        "        return total    #返回之前的一步(最接近呼叫的地方)\n",
        "    \n",
        "    #站在地step位置，按照0~8的順序一一的嘗試\n",
        "    for i in range(9):\n",
        "        if book[i] == 0 :  #如果book[i]等於0，代表這個位置的數字可以用\n",
        "            a[step] = i+1  #將可用數字給到空盒子裡(因為i為索引，所以要加1)\n",
        "            book[i] = 1    #表示這個位置的數字已被取用\n",
        "\n",
        "            total = dfs(step + 1, total, a, book) #藉由遞迴來找出更深層的解\n",
        "\n",
        "            book[i] = 0    #但記得要把剛才嘗試過的數字重置，才能進行下一次的嘗試\n",
        "    return total\n",
        "\n",
        "\n",
        "total = Depth_first_Search(0, total, a, book)\n",
        "print(total/2)  #因為有重複解，所以要除以2"
      ],
      "execution_count": null,
      "outputs": [
        {
          "output_type": "stream",
          "text": [
            "[5, 3, 4, 7, 6, 8, 9, 1, 2, 0]\n",
            "[5, 3, 4, 9, 1, 2, 7, 6, 8, 0]\n",
            "[7, 6, 8, 5, 3, 4, 9, 1, 2, 0]\n",
            "[7, 6, 8, 9, 1, 2, 5, 3, 4, 0]\n",
            "[9, 1, 2, 5, 3, 4, 7, 6, 8, 0]\n",
            "[9, 1, 2, 7, 6, 8, 5, 3, 4, 0]\n",
            "3.0\n"
          ],
          "name": "stdout"
        }
      ]
    },
    {
      "cell_type": "code",
      "metadata": {
        "colab": {
          "base_uri": "https://localhost:8080/"
        },
        "id": "omDmZymLSxAK",
        "outputId": "f0f7c215-f36d-4339-9b79-020b6637599d"
      },
      "source": [
        "graph = {\n",
        "    \"A\":[\"B\",\"C\"],\n",
        "    \"B\":[\"A\",\"C\",\"D\"], \n",
        "    \"C\":[\"A\",\"B\",\"D\",\"E\"],\n",
        "    \"D\":[\"B\",\"C\",\"E\",\"F\"],\n",
        "    \"E\":[\"C\",\"D\"],\n",
        "    \"F\":[\"D\"],      \n",
        "}\n",
        "def BFS(graph,s):\n",
        "    stack = []\n",
        "    stack.append(s)\n",
        "    seen = set()\n",
        "    seen.add(s)\n",
        "    while(len(stack)>0):\n",
        "        vertex = stack.pop()\n",
        "        nodes = graph[vertex]\n",
        "        for w in nodes:\n",
        "            if w not in seen:\n",
        "                stack.append(w)\n",
        "                seen.add(w)\n",
        "        print(vertex)\n",
        "BFS(graph,'E')"
      ],
      "execution_count": null,
      "outputs": [
        {
          "output_type": "stream",
          "text": [
            "E\n",
            "D\n",
            "F\n",
            "B\n",
            "A\n",
            "C\n"
          ],
          "name": "stdout"
        }
      ]
    },
    {
      "cell_type": "code",
      "metadata": {
        "colab": {
          "base_uri": "https://localhost:8080/"
        },
        "id": "xA9A0q9T7i0V",
        "outputId": "6be0b1ce-acc3-45c3-a20b-09eb7c38f459"
      },
      "source": [
        "def fibonacci(n):\n",
        "    if n == 0:\n",
        "        return 0;\n",
        "    elif n == 1:\n",
        "        return 1;\n",
        "    return fibonacci(n-1) + fibonacci(n-2)\n",
        "    \n",
        "print(fibonacci(7))"
      ],
      "execution_count": null,
      "outputs": [
        {
          "output_type": "stream",
          "text": [
            "13\n"
          ],
          "name": "stdout"
        }
      ]
    },
    {
      "cell_type": "code",
      "metadata": {
        "colab": {
          "base_uri": "https://localhost:8080/"
        },
        "id": "cN_AtRqDw4XM",
        "outputId": "eb709661-4fc7-4909-a452-b3a5984b7cf9"
      },
      "source": [
        "import sys\n",
        "\n",
        "# 產生費氏數列\n",
        "def fibo(max):\n",
        "    fib = [sys.maxsize] * max\n",
        "    fib[0] = 0\n",
        "    fib[1] = 1\n",
        "    for i in range(2, max):\n",
        "        fib[i] = fib[i - 1] + fib[i - 2]\n",
        "    return fib\n",
        "\n",
        "def getY(fib, n):\n",
        "    i = 0\n",
        "    while fib[i] <= n:\n",
        "        i += 1\n",
        "    return i - 1\n",
        "\n",
        "def search(data, key):\n",
        "    fib = fibo(len(data))\n",
        "    max = len(data) - 1  # data的最大索引值\n",
        "    y = getY(fib, max + 1) # 在費氏數列裡的值，如果比data的最大索引值還大，回傳費氏數列索引值的前一個\n",
        "    m = max - fib[y] \n",
        "    x = y - 1  #找到在data搜尋的起始索引值\n",
        "    print(\"\\nx=%d, m=%d, fib[x]=%d\" % (x, m, fib[x]))\n",
        "    i = x\n",
        "    if data[i] < key:\n",
        "        i += m\n",
        "    while fib[x] > 0:\n",
        "        if data[i] < key:\n",
        "            x -= 1\n",
        "            i += fib[x]\n",
        "        elif data[i] > key:\n",
        "            x -= 1\n",
        "            i -= fib[x]\n",
        "        else:\n",
        "            return i\n",
        "    return -1\n",
        "\n",
        "number = [10, 22, 30, 44, 56, 58, 60, 70, 100, 110, 130]\n",
        "find = search(number, 60)\n",
        "print(\"找到數值於索引 \" + str(find) if find >= 0 else \"找不到數值\")"
      ],
      "execution_count": null,
      "outputs": [
        {
          "output_type": "stream",
          "text": [
            "2\n",
            "\n",
            "x=5, m=2, fib[x]=5\n",
            "找到數值於索引 6\n"
          ],
          "name": "stdout"
        }
      ]
    },
    {
      "cell_type": "code",
      "metadata": {
        "colab": {
          "base_uri": "https://localhost:8080/"
        },
        "id": "4s8tpPDOw8ml",
        "outputId": "59a4da69-f702-4560-f376-20cf13aa2629"
      },
      "source": [
        "class note():\n",
        "    def __init__(self, n, m):\n",
        "        self.x = [0] * n * m  # 縱座標\n",
        "        self.y = [0] * n * m  # 橫座標\n",
        "        self.f = [0] * n * m  # 父親在佇列中的編號\n",
        "        self.s = [0] * n * m  # 步數\n",
        "\n",
        "# 此為迷宮，0 = 空格，1 = 障礙\n",
        "maze = [[0, 0, 1, 0],\n",
        "        [0, 0, 0, 0],\n",
        "        [0, 0, 1, 0],\n",
        "        [0, 1, 0, 0],\n",
        "        [0, 0, 0, 1]]\n",
        "# 設定迷宮大小\n",
        "n = len(maze)\n",
        "m = len(maze[0])\n",
        "# 設一個陣列，用來標記走過的座標\n",
        "book = []\n",
        "for i in range(n):\n",
        "    book.append([0] * m)\n",
        "\n",
        "# 設定起訖點\n",
        "startx = 0\n",
        "starty = 0\n",
        "endx = 3\n",
        "endy = 2\n",
        "\n",
        "# 定義一個表示走的方向的陣列\n",
        "next = [[0, 1],   # 向右走\n",
        "        [1, 0],   # 向下走\n",
        "        [0, -1],  # 向左走\n",
        "        [-1, 0]]  # 向上走\n",
        "\n",
        "# 佇列初始化\n",
        "head = 0\n",
        "tail = 0\n",
        "\n",
        "# 往佇列插入迷宮入口座標\n",
        "que = note(n, m)\n",
        "que.x[tail] = startx\n",
        "que.y[tail] = starty\n",
        "que.f[tail] = 0\n",
        "que.s[tail] = 0\n",
        "tail += 1\n",
        "book[startx][startx] = 1\n",
        "\n",
        "flag = 0 # 用來標記是否到達目標，0 = 未到，1 = 到達\n",
        "\n",
        "# 當佇列不為空的迴圈\n",
        "while(head < tail):\n",
        "    # 列舉4個方向\n",
        "    for i in range(4):\n",
        "        # 計算下一個座標\n",
        "        tx = que.x[head] + next[i][0]\n",
        "        ty = que.y[head] + next[i][1]\n",
        "        # 判斷是否越界\n",
        "        if tx < 0 or tx > n-1 or ty < 0 or ty > m-1 :\n",
        "            continue\n",
        "        # 判斷是否是障礙物或者已經走過\n",
        "        if maze[tx][ty] == 0 and book[tx][ty] == 0 :\n",
        "            book[tx][ty] = 1  # 標記為已走過\n",
        "            # 插入新的點到佇列中\n",
        "            que.x[tail] = tx\n",
        "            que.y[tail] = ty\n",
        "            que.f[tail] = head\n",
        "            que.s[tail] = que.s[head] + 1   # 步數是父親步數+1\n",
        "            tail += 1\n",
        "        # 若到訖點，停止擴展退出迴圈\n",
        "        if tx == endx and ty == endy :\n",
        "            flag = 1\n",
        "            break\n",
        "    if flag == 1 :\n",
        "        break\n",
        "    head += 1 # 當一個擴展結束後，要head++才能對後面的點再進行擴展\n",
        "\n",
        "# 列印佇列中末尾最後一個點(訖點)的步數，但tail是指向佇列尾的下一個位置，所以要-1\n",
        "print(que.s[tail-1])\n",
        "print(que.x)\n",
        "print(que.y)"
      ],
      "execution_count": null,
      "outputs": [
        {
          "output_type": "stream",
          "text": [
            "7\n",
            "[0, 0, 1, 1, 2, 1, 2, 3, 1, 4, 2, 0, 4, 3, 4, 3, 0, 0, 0, 0]\n",
            "[0, 1, 0, 1, 0, 2, 1, 0, 3, 0, 3, 3, 1, 3, 2, 2, 0, 0, 0, 0]\n"
          ],
          "name": "stdout"
        }
      ]
    },
    {
      "cell_type": "code",
      "metadata": {
        "colab": {
          "base_uri": "https://localhost:8080/",
          "height": 761
        },
        "id": "qeN4HetexA99",
        "outputId": "37b02746-1728-464f-f473-dfd4a04edde8"
      },
      "source": [
        "# K-分群法\n",
        "\n",
        "import numpy as np\n",
        "import matplotlib.pyplot as plt\n",
        "\n",
        "# 群集中心和元素的數量\n",
        "seed_num = 3\n",
        "dot_num = 10\n",
        "\n",
        "# 初始元素\n",
        "x = np.random.randint(0, 500, dot_num)\n",
        "y = np.random.randint(0, 500, dot_num)\n",
        "# 初始群集中心\n",
        "kx = np.random.randint(0, 500, seed_num)\n",
        "ky = np.random.randint(0, 500, seed_num)\n",
        "\n",
        "\n",
        "# 兩點之間的距離\n",
        "def dis(x, y, kx, ky):\n",
        "    return int(((kx-x)**2 + (ky-y)**2)**0.5)\n",
        "\n",
        "# 對每筆元素進行分群\n",
        "def cluster(x, y, kx, ky):\n",
        "    team = []\n",
        "    for i in range(3):\n",
        "        team.append([])\n",
        "    mid_dis = 99999999\n",
        "    for i in range(dot_num):\n",
        "        for j in range(seed_num):\n",
        "            distant = dis(x[i], y[i], kx[j], ky[j])\n",
        "            if distant < mid_dis:\n",
        "                mid_dis = distant\n",
        "                flag = j\n",
        "        team[flag].append([x[i], y[i]])\n",
        "        mid_dis = 99999999\n",
        "    return team\n",
        "\n",
        "# 對分群完的元素找出新的群集中心\n",
        "def re_seed(team, kx, ky):\n",
        "    sumx = 0\n",
        "    sumy = 0\n",
        "    new_seed = []\n",
        "    for index, nodes in enumerate(team):\n",
        "        if nodes == []:\n",
        "            new_seed.append([kx[index], ky[index]])\n",
        "        for node in nodes:\n",
        "            sumx += node[0]\n",
        "            sumy += node[1]\n",
        "        new_seed.append([int(sumx/len(nodes)), int(sumy/len(nodes))])\n",
        "        sumx = 0\n",
        "        sumy = 0\n",
        "    nkx = []\n",
        "    nky = []\n",
        "    for i in new_seed:\n",
        "        nkx.append(i[0])\n",
        "        nky.append(i[1])\n",
        "    return nkx, nky\n",
        "\n",
        "# k-means 分群\n",
        "def kmeans(x, y, kx, ky, fig):\n",
        "    team = cluster(x, y, kx, ky)\n",
        "    nkx, nky = re_seed(team, kx, ky)\n",
        "    \n",
        "    # plot: nodes connect to seeds\n",
        "    cx = []\n",
        "    cy = []\n",
        "    line = plt.gca()\n",
        "    for index, nodes in enumerate(team):\n",
        "        for node in nodes:\n",
        "            cx.append([node[0], nkx[index]])\n",
        "            cy.append([node[1], nky[index]])\n",
        "        for i in range(len(cx)):\n",
        "            line.plot(cx[i], cy[i], color='r', alpha=0.6)\n",
        "        cx = []\n",
        "        cy = []\n",
        "    \n",
        "    # 繪圖\n",
        "    feature = plt.scatter(x, y)\n",
        "    k_feature = plt.scatter(kx, ky)\n",
        "    nk_feaure = plt.scatter(np.array(nkx), np.array(nky), s=50)\n",
        "    #plt.savefig(  'C:\\Users\\ander\\OneDrive\\桌面/kmeans_%s.png' % fig)\n",
        "    plt.show()\n",
        "\n",
        "    # 判斷群集中心是否不再更動\n",
        "    if nkx == list(kx) and nky == (ky):\n",
        "        return\n",
        "    else:\n",
        "        fig += 1\n",
        "        kmeans(x, y, nkx, nky, fig)\n",
        "\n",
        "\n",
        "kmeans(x, y, kx, ky, fig=0)"
      ],
      "execution_count": null,
      "outputs": [
        {
          "output_type": "display_data",
          "data": {
            "image/png": "[encoded data removed]",
            "text/plain": [
              "<Figure size 432x288 with 1 Axes>"
            ]
          },
          "metadata": {
            "tags": [],
            "needs_background": "light"
          }
        },
        {
          "output_type": "display_data",
          "data": {
            "image/png": "[encoded data removed]",
            "text/plain": [
              "<Figure size 432x288 with 1 Axes>"
            ]
          },
          "metadata": {
            "tags": [],
            "needs_background": "light"
          }
        },
        {
          "output_type": "display_data",
          "data": {
            "image/png": "[encoded data removed]",
            "text/plain": [
              "<Figure size 432x288 with 1 Axes>"
            ]
          },
          "metadata": {
            "tags": [],
            "needs_background": "light"
          }
        }
      ]
    },
    {
      "cell_type": "code",
      "metadata": {
        "colab": {
          "base_uri": "https://localhost:8080/"
        },
        "id": "smfBSLG7xFOn",
        "outputId": "44805023-8bd6-4d6f-94c9-05bc1d5422ba"
      },
      "source": [
        "import numpy as np\n",
        "import pandas as pd\n",
        "\n",
        "inf = 99999999\n",
        "e = np.zeros((10,10), dtype = np.int)\n",
        "\n",
        "n, m = map(int, input().split(' '))\n",
        "\n",
        "#initialize\n",
        "for i in range(1, n+1):\n",
        "\tfor j in range(1, n+1):\n",
        "\t\tif i==j:\n",
        "\t\t\te[i][j]=0\n",
        "\t\telse:\n",
        "\t\t\te[i][j]=inf\n",
        "\n",
        "#read line\n",
        "for i in range(1, m+1):\n",
        "\tt1, t2, t3 = map(int, input().split(' '))\n",
        "\te[t1][t2]=t3\n",
        "\n",
        "#Floyd-Warshall algorithm\n",
        "for k in range(1, n+1):\n",
        "\tfor i in range(1, n+1):\n",
        "\t\tfor j in range(1, n+1):\n",
        "\t\t\tif e[i][j] > e[i][k]+e[k][j]:\n",
        "\t\t\t\te[i][j] = e[i][k]+e[k][j]\n",
        "\n",
        "# test data:\n",
        "# 4 8\n",
        "# 1 2 2\n",
        "# 1 3 6\n",
        "# 1 4 4\n",
        "# 2 3 3\n",
        "# 3 1 7\n",
        "# 3 4 1\n",
        "# 4 1 5\n",
        "# 4 3 12\n",
        "\n",
        "#output final consequences\n",
        "for i in range(1, n+1):\n",
        "    print(e[i][1:n+1])\n",
        "\n",
        "# ---------------------\n",
        "# [0 2 5 4]\n",
        "# [9 0 3 4]\n",
        "# [6 8 0 1]\n",
        "# [ 5  7 10  0]"
      ],
      "execution_count": null,
      "outputs": [
        {
          "output_type": "stream",
          "text": [
            "4 8\n",
            "1 3 2\n",
            "1 3 6\n",
            "1 4 4\n",
            "2 3 3\n",
            "3 1 7\n",
            "3 4 1\n",
            "4 1 5\n",
            "4 3 12\n",
            "[       0 99999999        6        4]\n",
            "[9 0 3 4]\n",
            "[       6 99999999        0        1]\n",
            "[       5 99999999       11        0]\n"
          ],
          "name": "stdout"
        }
      ]
    },
    {
      "cell_type": "code",
      "metadata": {
        "colab": {
          "base_uri": "https://localhost:8080/"
        },
        "id": "OuoO7aNfxYrV",
        "outputId": "445c19ac-d1f1-4597-9c86-e6bc8a66691e"
      },
      "source": [
        "# people = 人數; leads = 線索數\n",
        "people, leads = map(int, input().split(' '))\n",
        "\n",
        "# 初始化每個人的編號\n",
        "f = []\n",
        "for i in range(people):\n",
        "    f.append(i)\n",
        "\n",
        "# 「擒賊先擒王原則」，不斷的找，找到小團體裡面的頭為止。\n",
        "def getf(f, v):\n",
        "    if f[v] == v:\n",
        "        return v\n",
        "    else:\n",
        "        # 路徑壓縮 (path compression)，每次在函數返回的時候，\n",
        "        # 順道把路上遇到的「頭頭」改為最後找到的「大頭編號」，也就是小團體的主要人物。\n",
        "        # 這樣可以提高以後找主要人物的速度。\n",
        "        f[v] = getf(f, f[v])\n",
        "        return f[v]\n",
        "\n",
        "# 合併兩個小團體的函數\n",
        "def merge(f, v, u):\n",
        "    t1 = getf(f, v)\n",
        "    t2 = getf(f, u)\n",
        "    if t1 != t2 : # 判斷兩位學生是否同屬一個小團體，及是否同一個頭頭。\n",
        "        f[t2] = t1\n",
        "        # 「靠左原則」，左邊變成右邊的頭頭。即把右邊的集合，變成左邊的子集合。\n",
        "        # 經過路徑壓縮以後，將f[u]的根的值也指定為v的大頭f[t1]\n",
        "\n",
        "'''\n",
        "測試資料 (test data) :\n",
        "10 9\n",
        "1 2\n",
        "3 4\n",
        "5 2\n",
        "4 6\n",
        "2 6\n",
        "8 7\n",
        "9 7\n",
        "1 6\n",
        "2 4\n",
        "'''\n",
        "\n",
        "# 開始合併線索\n",
        "for i in range(leads):\n",
        "    clue1, clue2 = map(int, input().split(' '))\n",
        "    merge(f, clue1, clue2)\n",
        "\n",
        "# 掃描最後有幾個獨立的小團體\n",
        "sum = 0\n",
        "for j in range(people):\n",
        "    if f[j] == j :\n",
        "        sum += 1\n",
        "\n",
        "print(sum)"
      ],
      "execution_count": null,
      "outputs": [
        {
          "output_type": "stream",
          "text": [
            "10 9\n",
            "1 2\n",
            "3 4\n",
            "5 2\n",
            "4 6\n",
            "2 6\n",
            "8 7\n",
            "9 7\n",
            "1 6\n",
            "2 4\n",
            "3\n"
          ],
          "name": "stdout"
        }
      ]
    },
    {
      "cell_type": "code",
      "metadata": {
        "id": "KKAxGJ-ixj0T",
        "colab": {
          "base_uri": "https://localhost:8080/",
          "height": 307
        },
        "outputId": "f227b492-02fa-4442-d1ab-f2b5fb16816b"
      },
      "source": [
        "import numpy as np\n",
        "\n",
        "e = np.zeros((11, 11), dtype=int)\n",
        "inf = 99999999\n",
        "key_point = 1\n",
        "\n",
        "# 讀入頂點個數，邊個數\n",
        "n, m = map(int, input().split(' '))\n",
        "# 初始化\n",
        "for i in range(1, n+1):\n",
        "    for j in range(1, n+1):\n",
        "        if i == j : \n",
        "            e[i][j] = 0\n",
        "        else:\n",
        "            e[i][j] = inf\n",
        "\n",
        "# 讀入邊\n",
        "for i in range(1, m+1):\n",
        "    t1, t2, t3 = map(int, input().split(' '))\n",
        "    e[t1][t2] = t3\n",
        "\n",
        "# 初始 dis 陣列，從 key_point 到其餘各點的初始路程\n",
        "dis = np.zeros(11, dtype=int)\n",
        "for i in range(1, n+1):\n",
        "    dis[i] = e[key_point][i]\n",
        "\n",
        "# 初始 book 陣列\n",
        "book = np.zeros(11, dtype=int)\n",
        "book[key_point] = 1\n",
        "\n",
        "# Dijkstra Algorithm\n",
        "for i in range(1, n):\n",
        "    # 找到離 key_point 點最近的頂點\n",
        "    min = inf\n",
        "    for j in range(1, n+1):\n",
        "        if book[j] == 0 and dis[j] < min :\n",
        "            min = dis[j]\n",
        "            u = j\n",
        "    book[u] = 1\n",
        "    for v in range(1, n+1):\n",
        "        if e[u][v] < inf:\n",
        "            if dis[v] > dis[u] + e[u][v]:\n",
        "                dis[v] = dis[u] + e[u][v]\n",
        "\n",
        "# 輸出\n",
        "for i in range(1, n+1):\n",
        "    print(dis[i])\n",
        "\n",
        "\n",
        "'''\n",
        "驗證資料:\n",
        "6 9\n",
        "1 2 1\n",
        "1 3 12\n",
        "2 3 9\n",
        "2 4 3\n",
        "3 5 5\n",
        "4 3 4\n",
        "4 5 13\n",
        "4 6 15\n",
        "5 6 4\n",
        "'''"
      ],
      "execution_count": null,
      "outputs": [
        {
          "output_type": "stream",
          "text": [
            "6 9\n",
            "1 2 1\n",
            "1 3 12\n",
            "2 3 9\n",
            "2 4 3\n",
            "3 5 5\n",
            "4 3 4\n",
            "4 5 13\n",
            "4 6 15\n",
            "5 6 4\n",
            "0\n",
            "1\n",
            "8\n",
            "4\n",
            "13\n",
            "17\n"
          ],
          "name": "stdout"
        },
        {
          "output_type": "execute_result",
          "data": {
            "application/vnd.google.colaboratory.intrinsic+json": {
              "type": "string"
            },
            "text/plain": [
              "'\\n驗證資料:\\n6 9\\n1 2 1\\n1 3 12\\n2 3 9\\n2 4 3\\n3 5 5\\n4 3 4\\n4 5 13\\n4 6 15\\n5 6 4\\n'"
            ]
          },
          "metadata": {
            "tags": []
          },
          "execution_count": 3
        }
      ]
    },
    {
      "cell_type": "code",
      "metadata": {
        "colab": {
          "base_uri": "https://localhost:8080/"
        },
        "id": "Q30Jvx8UiBd6",
        "outputId": "c786c859-5e86-4196-efc8-83f260c81c70"
      },
      "source": [
        "import numpy as np\n",
        "\n",
        "n, m = map(int, input().split(' '))\n",
        "\n",
        "dis = np.zeros(10, dtype=np.int)\n",
        "bak = np.zeros(10, dtype=np.int)\n",
        "\n",
        "u = np.zeros(10, dtype=np.int)\n",
        "v = np.zeros(10, dtype=np.int)\n",
        "w = np.zeros(10, dtype=np.int)\n",
        "inf = 99999999\n",
        "\n",
        "# 讀入邊\n",
        "for i in range(1, m+1):\n",
        "    u[i], v[i], w[i] = map(int, input().split(' '))\n",
        "\n",
        "# 初始化 dis 陣列，此處用 1 號頂點到其餘各點的初始路程\n",
        "for i in range(1, n+1):\n",
        "    dis[i] = inf\n",
        "dis[1] = 0\n",
        "\n",
        "# Bellman-Ford Algorithm\n",
        "for k in range(1, n):\n",
        "    # 將 dis 陣列備份到 bak 陣列中\n",
        "    for i in range(1, n+1):\n",
        "        bak[i] = dis[i]\n",
        "    # 進行一輪鬆弛\n",
        "    for i in range(1, m+1):\n",
        "        if dis[v[i]] > dis[u[i]] + w[i] :\n",
        "            dis[v[i]] = dis[u[i]] + w[i]\n",
        "    # 鬆弛完畢檢測 dis 陣列有無更新\n",
        "    check = 0\n",
        "    for i in range(1, n+1):\n",
        "        if bak[i] != dis[i]:\n",
        "            check = 1\n",
        "            break\n",
        "    # 如果 dis 陣列沒有更新，提前退出演算法迴圈\n",
        "    if check == 0:\n",
        "        break\n",
        "\n",
        "# 檢測負權迴路\n",
        "flag = 0\n",
        "for i in range(1, m+1):\n",
        "    if dis[v[i]] > dis[u[i]] + w[i]:\n",
        "        flag = 1\n",
        "if flag == 1 :\n",
        "    print(\"此圖含有負權迴路\")\n",
        "else:\n",
        "    # 輸出最終結果\n",
        "    for i in range(1, n+1):\n",
        "        print(dis[i])"
      ],
      "execution_count": null,
      "outputs": [
        {
          "output_type": "stream",
          "text": [
            "5 5\n",
            "2 3 2\n",
            "1 2 -3\n",
            "1 5 5\n",
            "4 5 2\n",
            "3 4 3\n",
            "0\n",
            "-3\n",
            "-1\n",
            "2\n",
            "4\n"
          ],
          "name": "stdout"
        }
      ]
    },
    {
      "cell_type": "code",
      "metadata": {
        "colab": {
          "base_uri": "https://localhost:8080/",
          "height": 256
        },
        "id": "072YM-Mpinle",
        "outputId": "c27b8de3-e8a2-4813-c418-8bb21511a3bd"
      },
      "source": [
        "import numpy as np\n",
        "\n",
        "# 讀入邊\n",
        "n, m = map(int, input().split(' '))\n",
        "\n",
        "# 陣列大小要比 m 的最大值 +1 \n",
        "u = np.zeros(m+1, dtype=np.int)\n",
        "v = np.zeros(m+1, dtype=np.int)\n",
        "w = np.zeros(m+1, dtype=np.int)\n",
        "# first 要比 n 的最大值 +1 ; next 要比 m 的最大值 +1\n",
        "first = np.zeros(n+1, dtype=np.int)\n",
        "next = np.zeros(m+1, dtype=np.int)\n",
        "\n",
        "dis = [0] * 7 \n",
        "book = [0] * 7 # 用來記錄哪些頂點已經在佇列中\n",
        "que = np.zeros(101, dtype=np.int) # 定義一個佇列並初始化\n",
        "head = 1\n",
        "tail = 1\n",
        "inf = 99999999\n",
        "\n",
        "for i in range(1, n+1):\n",
        "    dis[i] = inf  # 初始化 dis 陣列，此處用 1 號頂點到其餘各點的初始路程\n",
        "    book[i] = 0   # 初始化 book 陣列，初始化為 0 ，剛開始都不在佇列中\n",
        "    first[i] = -1  # 初始化 first 陣列下標 1~n 的值為 -1，表示 1~n 頂點暫時都沒有邊\n",
        "dis[1] = 0  # 從 1 號頂點開始擴展\n",
        "\n",
        "# 讀入邊\n",
        "for i in range(1, m+1):\n",
        "    u[i], v[i], w[i] = map(int, input().split(' '))\n",
        "    # 鄰接串列\n",
        "    next[i] = first[u[i]]\n",
        "    first[u[i]] = i\n",
        "\n",
        "# 1 號頂點入住列\n",
        "que[tail] = 1\n",
        "tail += 1\n",
        "book[1] = 1  # 標記 1 號頂點入住列\n",
        "\n",
        "# 佇列不為空的時候迴圈\n",
        "while head < tail :\n",
        "    k = first[que[head]] # 目前需要處理的佇列首頂點\n",
        "    while k != -1 : # 掃描目前頂點的所有邊\n",
        "        if dis[v[k]] > dis[u[k]] + w[k]: # 更新頂點 1 到頂點 v[k] 的路程\n",
        "            dis[v[k]] = dis[u[k]] + w[k]\n",
        "            # 判斷 v[k] 是否在佇列中\n",
        "            if book[v[k]] == 0 : # 0 表示不在佇列中\n",
        "                # 佇列操作\n",
        "                que[tail] = v[k] \n",
        "                tail += 1\n",
        "                book[v[k]] = 1 # 標記頂點 v[k] 已經入佇列\n",
        "        \n",
        "        k = next[k]\n",
        "    # 出佇列\n",
        "    book[que[head]] = 0\n",
        "    head += 1\n",
        "\n",
        "# 輸出 1 號頂點到其餘各點的最短路徑\n",
        "for i in range(1, n+1):\n",
        "    print(dis[i])\n",
        "\n",
        "'''\n",
        "2       驗證資料：\n",
        "5 7\n",
        "1 2 2\n",
        "1 5 10\n",
        "2 3 3\n",
        "2 5 7\n",
        "3 4 4\n",
        "4 5 5\n",
        "5 3 6\n",
        "'''"
      ],
      "execution_count": null,
      "outputs": [
        {
          "output_type": "stream",
          "text": [
            "5 7\n",
            "1 2 2\n",
            "1 5 10\n",
            "2 3 3\n",
            "2 5 7\n",
            "3 4 4\n",
            "4 5 5\n",
            "5 3 6\n",
            "0\n",
            "2\n",
            "5\n",
            "9\n",
            "9\n"
          ],
          "name": "stdout"
        },
        {
          "output_type": "execute_result",
          "data": {
            "application/vnd.google.colaboratory.intrinsic+json": {
              "type": "string"
            },
            "text/plain": [
              "'\\n驗證資料：\\n5 7\\n1 2 2\\n1 5 10\\n2 3 3\\n2 5 7\\n3 4 4\\n4 5 5\\n5 3 6\\n'"
            ]
          },
          "metadata": {
            "tags": []
          },
          "execution_count": 6
        }
      ]
    },
    {
      "cell_type": "code",
      "metadata": {
        "id": "aifywS6njHT5"
      },
      "source": [
        ""
      ],
      "execution_count": null,
      "outputs": []
    }
  ]
}